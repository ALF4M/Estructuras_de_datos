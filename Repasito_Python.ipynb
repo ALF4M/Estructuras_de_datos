{
  "nbformat": 4,
  "nbformat_minor": 0,
  "metadata": {
    "colab": {
      "provenance": []
    },
    "kernelspec": {
      "name": "python3",
      "display_name": "Python 3"
    },
    "language_info": {
      "name": "python"
    }
  },
  "cells": [
    {
      "cell_type": "markdown",
      "source": [
        "# EJERCICIOS PYTON"
      ],
      "metadata": {
        "id": "bD86aba5RHJX"
      }
    },
    {
      "cell_type": "markdown",
      "source": [
        "### Ejercicio 1:\n",
        "Solicita al usuario que ingrese dos números enteros y luego muestra la suma de esos números."
      ],
      "metadata": {
        "id": "KU99MQ194DPU"
      }
    },
    {
      "cell_type": "code",
      "source": [
        "a = int(input('Introduce un numero: '))\n",
        "b = int(input('introduce otro numero: '))\n",
        "print(f'El resultado de {a} + {b} es {a+b}')"
      ],
      "metadata": {
        "colab": {
          "base_uri": "https://localhost:8080/"
        },
        "id": "yugdrlb0Rcrv",
        "outputId": "aa2313b5-a488-4df8-c7bd-cfc0dc66adb1"
      },
      "execution_count": null,
      "outputs": [
        {
          "output_type": "stream",
          "name": "stdout",
          "text": [
            "Introduce un numero: 3\n",
            "introduce otro numero: 4\n",
            "El resultado de 3 + 4 es 7\n"
          ]
        }
      ]
    },
    {
      "cell_type": "markdown",
      "source": [
        "### Ejercicio 2:\n",
        "Pide al usuario su peso en kilogramos y su altura en metros. Calcula el índice de masa corporal(BMI) usando la fórmula: BMI = peso / (altura * altura). Luego, muestra el resultado."
      ],
      "metadata": {
        "id": "zhB5gcoDR5L5"
      }
    },
    {
      "cell_type": "code",
      "source": [
        "peso = int(input('introduce tu peso en kg: '))\n",
        "altura = float(input('introduce tu altura en metros: '))\n",
        "print(f'Tu indice de masa corporal es {round(peso / altura**2,2)}')"
      ],
      "metadata": {
        "colab": {
          "base_uri": "https://localhost:8080/"
        },
        "id": "txCayaw2SNxY",
        "outputId": "78627558-2d7b-4a03-eabc-fd7b6a65f87f"
      },
      "execution_count": null,
      "outputs": [
        {
          "output_type": "stream",
          "name": "stdout",
          "text": [
            "introduce tu peso en kg: 64\n",
            "introduce tu altura en metros: 1.7\n",
            "Tu indice de masa corporal es 22.15\n"
          ]
        }
      ]
    },
    {
      "cell_type": "markdown",
      "source": [
        "### Ejercicio 3:\n",
        "Toma una cadena de texto como entrada y muestra la longitud de la cadena, el primer y último\n",
        "carácter, y la cadena en mayúsculas."
      ],
      "metadata": {
        "id": "ihvA30bYTax2"
      }
    },
    {
      "cell_type": "code",
      "source": [
        "cadena = input('introduce un texto: ')\n",
        "print(f'Longitud de la cadena: {len(cadena)}\\nPrimer caracter: {cadena[0]}\\nUltimo caracter: {cadena[-1]}\\nCadena en mayusculas: {cadena.upper()}')"
      ],
      "metadata": {
        "colab": {
          "base_uri": "https://localhost:8080/"
        },
        "id": "JsicGa5NT4jF",
        "outputId": "5097603e-97f5-4998-efe7-1d80a44ef7fc"
      },
      "execution_count": null,
      "outputs": [
        {
          "output_type": "stream",
          "name": "stdout",
          "text": [
            "introduce un texto: hola\n",
            "Longitud de la cadena: 4\n",
            "Primer caracter: h\n",
            "Ultimo caracter: a\n",
            "Cadena en mayusculas: HOLA\n"
          ]
        }
      ]
    },
    {
      "cell_type": "markdown",
      "source": [
        "### Ejercicio 4:\n",
        "Solicita al usuario una temperatura en grados Celsius y conviértela a grados Fahrenheit\n",
        "utilizando la fórmula: Fahrenheit = (Celsius * 9/5) + 32."
      ],
      "metadata": {
        "id": "XmUd9XHZUnMr"
      }
    },
    {
      "cell_type": "code",
      "source": [
        "temperatura = int(input('introduce una temperatura en grados celsius: '))\n",
        "print(f'{temperatura}ºC = {temperatura*9/5+32}ºF')"
      ],
      "metadata": {
        "colab": {
          "base_uri": "https://localhost:8080/"
        },
        "id": "GpBBriFHUz6i",
        "outputId": "d1b46a10-12a1-478d-87eb-20b5a464c465"
      },
      "execution_count": null,
      "outputs": [
        {
          "output_type": "stream",
          "name": "stdout",
          "text": [
            "introduce una temperatura en grados celsius: 40\n",
            "40ºC = 104.0ºF\n"
          ]
        }
      ]
    },
    {
      "cell_type": "markdown",
      "source": [
        "### Ejercicio 5:\n",
        "Genera una lista de los primeros 10 números pares (utilizando un bucle for) y muestra la lista\n",
        "resultante."
      ],
      "metadata": {
        "id": "mZnAOPNjWBmg"
      }
    },
    {
      "cell_type": "code",
      "source": [
        "pares = [i*2 for i in range(1,21)]\n",
        "print(pares)"
      ],
      "metadata": {
        "colab": {
          "base_uri": "https://localhost:8080/"
        },
        "id": "oWHBQa0DWVyW",
        "outputId": "1e67ecda-25ed-459d-80dc-903e651db830"
      },
      "execution_count": null,
      "outputs": [
        {
          "output_type": "stream",
          "name": "stdout",
          "text": [
            "[2, 4, 6, 8, 10, 12, 14, 16, 18, 20, 22, 24, 26, 28, 30, 32, 34, 36, 38, 40]\n"
          ]
        }
      ]
    },
    {
      "cell_type": "markdown",
      "source": [
        "### Ejercicio 6:\n",
        "Crea una tupla con tres colores de tu elección y muestra el segundo color de la tupla."
      ],
      "metadata": {
        "id": "dqioscFwWptW"
      }
    },
    {
      "cell_type": "code",
      "source": [
        "colores = ('rojo', 'azul', 'verde')\n",
        "print(f'El segundo color de la tupla es {colores[1]}')"
      ],
      "metadata": {
        "colab": {
          "base_uri": "https://localhost:8080/"
        },
        "id": "tEtIiwm8XR9J",
        "outputId": "f2f06370-3ae8-4a77-eaec-489dec16b3cc"
      },
      "execution_count": null,
      "outputs": [
        {
          "output_type": "stream",
          "name": "stdout",
          "text": [
            "El segundo color de la tupla es azul\n"
          ]
        }
      ]
    },
    {
      "cell_type": "markdown",
      "source": [
        "### Ejercicio 7:\n",
        "Crea dos conjuntos con elementos repetidos y realiza la unión, la intersección y la diferencia\n",
        "entre ellos."
      ],
      "metadata": {
        "id": "hu-_3DG-X1-i"
      }
    },
    {
      "cell_type": "code",
      "source": [
        "conj1 = {2,6,5,2}\n",
        "conj2 = {3,5,7,3}\n",
        "print(f'Union: {conj1.union(conj2)}\\nInterseccion: {conj1.intersection(conj2)}\\nDiferencia: {conj1.difference(conj2)}')"
      ],
      "metadata": {
        "colab": {
          "base_uri": "https://localhost:8080/"
        },
        "id": "4Cpap0dYX_df",
        "outputId": "6bb0c010-1398-4b03-8e55-31821d07cb35"
      },
      "execution_count": null,
      "outputs": [
        {
          "output_type": "stream",
          "name": "stdout",
          "text": [
            "Union: {2, 3, 5, 6, 7}\n",
            "Interseccion: {5}\n",
            "Diferencia: {2, 6}\n"
          ]
        }
      ]
    },
    {
      "cell_type": "markdown",
      "source": [
        "### Ejercicio 8:\n",
        "Crea un diccionario que almacene los nombres y números de teléfono de tus contactos. Luego,\n",
        "permite al usuario buscar un contacto por nombre y mostrar su número."
      ],
      "metadata": {
        "id": "Al4yKKrIY7tJ"
      }
    },
    {
      "cell_type": "code",
      "source": [
        "contactos = {\n",
        "    'Jose': 645119774,\n",
        "    'Carmen' : 611472665,\n",
        "    'Ruben' : 611482295\n",
        "}\n",
        "request = input('Dime un nombre registrado en tus contactos: ')\n",
        "print(f'El numero de telefono de {request} es {contactos[request]}')"
      ],
      "metadata": {
        "colab": {
          "base_uri": "https://localhost:8080/"
        },
        "id": "tVPR7vCYZit5",
        "outputId": "95866f60-f42d-42e8-bd4c-cadb92e79540"
      },
      "execution_count": null,
      "outputs": [
        {
          "output_type": "stream",
          "name": "stdout",
          "text": [
            "Dime un nombre registrado en tus contactos: Carmen\n",
            "El numero de telefono de Carmen es 611472665\n"
          ]
        }
      ]
    },
    {
      "cell_type": "markdown",
      "source": [
        "### Ejercicio 9:\n",
        "Pide al usuario que ingrese dos valores booleanos (True o False) e imprime el resultado de las\n",
        "operaciones lógicas AND, OR y NOT entre esos valores."
      ],
      "metadata": {
        "id": "RsgyhcT2ZLRI"
      }
    },
    {
      "cell_type": "code",
      "source": [
        "mBooleanos = {\n",
        "    'T' : True,\n",
        "    'F' : False\n",
        "}\n",
        "\n",
        "opcion1 = mBooleanos[input('Introduce T o F: ').upper()]\n",
        "opcion2 = mBooleanos[input('Vuelve a introducir T o F: ').upper()]\n",
        "\n",
        "print(f'AND: {opcion1 & opcion2}\\nOR: {opcion1 | opcion2}\\nNOT: opcion1={not opcion1}, opcion2 = {not opcion2}')"
      ],
      "metadata": {
        "colab": {
          "base_uri": "https://localhost:8080/"
        },
        "id": "VwNL2PaRZfps",
        "outputId": "1ea9e848-666f-4f03-efef-0368a5401fb8"
      },
      "execution_count": null,
      "outputs": [
        {
          "output_type": "stream",
          "name": "stdout",
          "text": [
            "Introduce T o F: t\n",
            "Vuelve a introducir T o F: f\n",
            "AND: False\n",
            "OR: True\n",
            "NOT: opcion1=False, opcion2 = True\n"
          ]
        }
      ]
    },
    {
      "cell_type": "markdown",
      "source": [
        "### Ejercicio 10:\n",
        "Toma un número como entrada y conviértelo a entero, flotante y cadena. Luego, muestra los\n",
        "resultados en diferentes líneas."
      ],
      "metadata": {
        "id": "X9M3mHPoZQZa"
      }
    },
    {
      "cell_type": "code",
      "source": [
        "numero = input('introduce un numero')\n",
        "print(f'Entero: {int(numero)}\\nFlotante: {float(numero)}\\nCadena: {list(numero)}')"
      ],
      "metadata": {
        "colab": {
          "base_uri": "https://localhost:8080/"
        },
        "id": "sPyLFVtaZUV-",
        "outputId": "fa3964aa-0c24-4ff9-e1e6-c3bd7c39f7fb"
      },
      "execution_count": null,
      "outputs": [
        {
          "output_type": "stream",
          "name": "stdout",
          "text": [
            "introduce un numero5\n",
            "Entero: 5\n",
            "Flotante: 5.0\n",
            "Cadena: ['5']\n"
          ]
        }
      ]
    },
    {
      "cell_type": "markdown",
      "source": [
        "### Ejercicio 11:\n",
        "Solicita al usuario que ingrese una cadena de texto y luego cuenta y muestra la cantidad de\n",
        "caracteres alfabéticos (letras) en la cadena."
      ],
      "metadata": {
        "id": "wKkEPTL6ciPQ"
      }
    },
    {
      "cell_type": "code",
      "source": [
        "cadena = input('Introduce un texto con numeros y letras: ')\n",
        "cadena = [i for i in cadena if i.isalpha()]\n",
        "print(f'La cantidad de letras en el texto es {len(cadena)}')"
      ],
      "metadata": {
        "colab": {
          "base_uri": "https://localhost:8080/"
        },
        "id": "PJODhPzCcwN0",
        "outputId": "142d1c7f-6bcc-485e-9770-cba36c9b9cfa"
      },
      "execution_count": null,
      "outputs": [
        {
          "output_type": "stream",
          "name": "stdout",
          "text": [
            "Introduce un texto con numeros y letras: h3ola56567567\n",
            "La cantidad de letras en el texto es 4\n"
          ]
        }
      ]
    },
    {
      "cell_type": "markdown",
      "source": [
        "### Ejercicio 12:\n",
        "Crea una lista de números y calcula la suma de todos los elementos de la lista."
      ],
      "metadata": {
        "id": "oL_8VN4Ld_x6"
      }
    },
    {
      "cell_type": "code",
      "source": [
        "numeros = [4,7,6,2,9]\n",
        "print(f'La suma de la lista de numeros: {numeros} es {sum(numeros)}')"
      ],
      "metadata": {
        "colab": {
          "base_uri": "https://localhost:8080/"
        },
        "id": "Gr2mwwuxfBNQ",
        "outputId": "979db6f5-4051-481f-b0e9-cbf393397cfd"
      },
      "execution_count": null,
      "outputs": [
        {
          "output_type": "stream",
          "name": "stdout",
          "text": [
            "La suma de la lista de numeros: [4, 7, 6, 2, 9] es 28\n"
          ]
        }
      ]
    },
    {
      "cell_type": "markdown",
      "source": [
        "### Ejercicio 13:\n",
        "Pide al usuario que ingrese una cadena de texto y reemplaza todas las ocurrencias de un carácter\n",
        "específico en la cadena por otro carácter."
      ],
      "metadata": {
        "id": "K-B2G-QPhczt"
      }
    },
    {
      "cell_type": "code",
      "source": [
        "cadena = input('Introduce un texto: ')\n",
        "caracter = input('Dime que caracter quieres cambiar: ')\n",
        "reemplazo = input('Por que caracter quieres reemplazarlo: ')\n",
        "print(cadena.replace(caracter,reemplazo))"
      ],
      "metadata": {
        "colab": {
          "base_uri": "https://localhost:8080/"
        },
        "id": "Hzxk7oYqhnUy",
        "outputId": "ff25225d-a6f8-46c1-9415-d95ff5bcd0f4"
      },
      "execution_count": null,
      "outputs": [
        {
          "output_type": "stream",
          "name": "stdout",
          "text": [
            "Introduce un texto: Hola mi nombre es Jose\n",
            "Dime que caracter quieres cambiar: o\n",
            "Por que caracter quieres reemplazarlo: a\n",
            "Hala mi nambre es Jase\n"
          ]
        }
      ]
    },
    {
      "cell_type": "markdown",
      "source": [
        "### Ejercicio 14:\n",
        "Pide al usuario su fecha de nacimiento (año, mes y día) y calcula cuántos días ha vivido hasta la\n",
        "fecha actual."
      ],
      "metadata": {
        "id": "ilUnmLTbiUIn"
      }
    },
    {
      "cell_type": "code",
      "source": [
        "import datetime\n",
        "\n",
        "nacimiento = datetime.date(int(input('En que año naciste? ')),int(input('En que mes naciste?(En numero) ')),int(input('Que dia naciste? ')))\n",
        "diasVividos = datetime.date.today() - nacimiento\n",
        "print(f'has vivido {diasVividos.days} dias')"
      ],
      "metadata": {
        "colab": {
          "base_uri": "https://localhost:8080/"
        },
        "id": "X_gZHnjSijgd",
        "outputId": "ac364c20-810e-4867-b755-d4d872b10f26"
      },
      "execution_count": null,
      "outputs": [
        {
          "output_type": "stream",
          "name": "stdout",
          "text": [
            "En que año naciste? 2002\n",
            "En que mes naciste?(En numero) 10\n",
            "Que dia naciste? 1\n",
            "has vivido 7659 dias\n"
          ]
        }
      ]
    },
    {
      "cell_type": "markdown",
      "source": [
        "### Ejercicio 15:\n",
        "Crea una lista desordenada de números y ordénala de menor a mayor sin usar la función\n",
        "sorted()."
      ],
      "metadata": {
        "id": "26E-qisikOdA"
      }
    },
    {
      "cell_type": "code",
      "source": [
        "lista = [45,2,25,89]\n",
        "for j in lista:\n",
        "  for k in lista[lista.index(j):]:\n",
        "    if(j > k):\n",
        "      i = lista.index(k)\n",
        "      lista[lista.index(j)], lista[i] = lista[lista.index(k)], lista[lista.index(j)]\n",
        "print(f'Lista ordenada: {lista}')"
      ],
      "metadata": {
        "id": "tzLjSHWwk-mQ",
        "colab": {
          "base_uri": "https://localhost:8080/"
        },
        "outputId": "301d8379-6a26-4781-90ee-6a2210bdadfc"
      },
      "execution_count": 41,
      "outputs": [
        {
          "output_type": "stream",
          "name": "stdout",
          "text": [
            "Lista ordenada: [2, 25, 45, 89]\n"
          ]
        }
      ]
    },
    {
      "cell_type": "markdown",
      "source": [
        "### Ejercicio 16:\n",
        "Solicita al usuario que ingrese las calificaciones de un estudiante en tres asignaturas diferentes\n",
        "y calcula el promedio de las calificaciones."
      ],
      "metadata": {
        "id": "PziT36YolFSd"
      }
    },
    {
      "cell_type": "code",
      "source": [
        "notas = input('Dime tres notas que hayas obtenido en tus asignaturas separadas por una coma: ').split(',')\n",
        "notas = list(map(lambda x: int(x),notas))\n",
        "print(f'El promedio de las asignaturas es {sum(notas)/len(notas)}')"
      ],
      "metadata": {
        "colab": {
          "base_uri": "https://localhost:8080/"
        },
        "id": "U26i9-pClGhI",
        "outputId": "88f38976-0364-450c-f7e6-fbdabcede572"
      },
      "execution_count": null,
      "outputs": [
        {
          "output_type": "stream",
          "name": "stdout",
          "text": [
            "Dime tres notas que hayas obtenido en tus asignaturas separadas por una coma: 9,2,7\n",
            "El promedio de las asignaturas es 6.0\n"
          ]
        }
      ]
    },
    {
      "cell_type": "markdown",
      "source": [
        "### Ejercicio 17:\n",
        "Pide al usuario dos fechas (en formato \"dd/mm/aaaa\") y calcula la diferencia en días entre las\n",
        "dos fechas."
      ],
      "metadata": {
        "id": "CBhkwhY4lP2a"
      }
    },
    {
      "cell_type": "code",
      "source": [
        "import datetime\n",
        "fInt = lambda x:int(x)\n",
        "sF1 = input('Introduce una fecha en formato dd/mm/aaaa: ')\n",
        "sF2 = input('Introduce otra fecha en formato dd/mm/aaaa: ')\n",
        "f1 = list(map(fInt,sF1.split('/')))\n",
        "f2 = list(map(fInt,sF2.split('/')))\n",
        "\n",
        "restaDias = datetime.date(f1[2], f1[1], f1[0]) - datetime.date(f2[2], f2[1], f2[0])\n",
        "print(f'entre las fechas {sF1} y {sF2} hay {abs(restaDias.days)} dias')\n"
      ],
      "metadata": {
        "colab": {
          "base_uri": "https://localhost:8080/"
        },
        "id": "njjhaNz1lQb0",
        "outputId": "fc02ebc8-09d3-4b60-c5c6-c8531b82230a"
      },
      "execution_count": null,
      "outputs": [
        {
          "output_type": "stream",
          "name": "stdout",
          "text": [
            "Introduce una fecha en formato dd/mm/aaaa: 01/10/2002\n",
            "Introduce otra fecha en formato dd/mm/aaaa: 05/10/2002\n",
            "entre las fechas 01/10/2002 y 05/10/2002 hay 4 dias\n"
          ]
        }
      ]
    },
    {
      "cell_type": "markdown",
      "source": [
        "### Ejercicio18:\n",
        "Crea una lista inicial llamada mi_lista con los siguientes elementos: [5, 2, 7, 1, 8].\n",
        "Realiza las siguientes operaciones utilizando los métodos de lista en Python:\n",
        "1. Agrega los números 10 y 3 al final de la lista mi_lista.\n",
        "2. Inserta el número 4 en la posición 2 de la lista mi_lista.\n",
        "3. Elimina el número 7 de la lista.\n",
        "4. Elimina un elemento de la lista en la posición 1 y almacena el valor eliminado en una\n",
        "variable llamada elemento_eliminado.\n",
        "5. Encuentra el índice del número 8 en la lista y almacénalo en una variable llamada indice.\n",
        "6. Cuenta cuántas veces aparece el número 4 en la lista y almacena el resultado en una\n",
        "variable llamada conteo.\n",
        "7. Ordena la lista mi_lista en orden ascendente.\n",
        "8. Invierte el orden de los elementos en la lista mi_lista.\n",
        "9. Borra todos los elementos de la lista mi_lista.\n",
        "\n",
        "Al finalizar las operaciones, muestra la lista resultante y los resultados de las operaciones\n",
        "mencionadas, como el elemento eliminado, el índice de 8 y la cantidad de veces que aparece 4\n",
        "en la lista."
      ],
      "metadata": {
        "id": "dZ_ShlWdp3im"
      }
    },
    {
      "cell_type": "code",
      "source": [
        "lista = [5, 2, 7, 1, 8]\n",
        "lista.append(10)\n",
        "lista.append(3)\n",
        "lista.insert(1,4)\n",
        "lista.remove(7)\n",
        "elemento_eliminado = lista[0]\n",
        "lista.remove(elemento_eliminado)\n",
        "indice = lista.index(8)\n",
        "conteo = lista.count(4)\n",
        "lista.sort()\n",
        "mi_lista = lista.copy()\n",
        "mi_lista.reverse()\n",
        "mi_lista.clear()\n",
        "print(f'Lista: {lista}\\nElemento eliminado: {elemento_eliminado}\\nIndice del 8: {indice}\\nCantidad de ocurrencias del 4: {conteo}')"
      ],
      "metadata": {
        "colab": {
          "base_uri": "https://localhost:8080/"
        },
        "id": "OogeD4ffsc3X",
        "outputId": "3da73203-345b-4289-c9d0-9ea2c7acd4dd"
      },
      "execution_count": null,
      "outputs": [
        {
          "output_type": "stream",
          "name": "stdout",
          "text": [
            "Lista: [1, 2, 3, 4, 8, 10]\n",
            "Elemento eliminado: 5\n",
            "Indice del 8: 3\n",
            "Cantidad de ocurrencias del 4: 1\n"
          ]
        }
      ]
    },
    {
      "cell_type": "markdown",
      "source": [
        "### Ejercicio 19:\n",
        "Supongamos que estás trabajando con información sobre el rendimiento de la Selección\n",
        "Femenina de Fútbol de España durante la útlima temporada. Cada registro de rendimiento se\n",
        "almacena como una tupla que contiene la siguiente información:\n",
        "- El nombre de la jugadora (cadena de texto)\n",
        "- El número de camiseta de la jugadora (número entero positivo)\n",
        "- La cantidad de goles anotados por la jugadora en la temporada (número entero positivo)\n",
        "\n",
        "Realiza las siguientes operaciones utilizando tuplas en Python:\n",
        "1. Crea al menos cinco tuplas de rendimiento de jugadoras distintas con datos ficticios.\n",
        "2. Almacena todas las tuplas en una lista llamada registro_rendimiento.\n",
        "3. Escribe una función llamada promedio_goles que calcule y devuelva el promedio de\n",
        "goles anotados por todas las jugadoras en el registro de rendimiento.\n",
        "4. Escribe una función llamada mejor_goleadora que identifique y devuelva el nombre de\n",
        "la jugadora con la mayor cantidad de goles anotados.\n",
        "5. Escribe una función llamada buscar_jugadora que tome como entrada el número de\n",
        "camiseta de una jugadora y devuelva el nombre de la jugadora y la cantidad de goles\n",
        "que anotó, si ese número de camiseta existe en el registro de rendimiento. De lo\n",
        "contrario, debe devolver un mensaje que indique que la jugadora no está en el registro.\n",
        "Luego, utiliza estas funciones para mostrar el promedio de goles, a la mejor goleadora y buscar\n",
        "información sobre jugadoras específicas en el registro de rendimiento."
      ],
      "metadata": {
        "id": "Jegxw9jotGGk"
      }
    },
    {
      "cell_type": "code",
      "source": [
        "j1 = ('Jimena',18,7)\n",
        "j2 = ('Adriana',4,1)\n",
        "j3 = ('Paula',82,0)\n",
        "j4 = ('Miriam',0,0)\n",
        "j5 = ('Carmen',3,3)\n",
        "\n",
        "registro_rendimiento = [j1,j2,j3,j4,j5]\n",
        "promedio_goles = lambda : sum([jugadora[2] for jugadora in registro_rendimiento]) / len(registro_rendimiento)\n",
        "mejor_goleadora = lambda : [jGol[0] for jGol in registro_rendimiento if jGol[2] == max([jugadora[2] for jugadora in registro_rendimiento])][0]\n",
        "buscar_jugadora = lambda camiseta: j[0] if len(j := [f'{jugadora[0]}: {jugadora[2]} goles' for jugadora in registro_rendimiento if jugadora[1] == camiseta]) != 0 else 'La jugadora no existe'\n",
        "print(f'Promedio de goles: {promedio_goles()}')\n",
        "print(f'Jugadora con mas goles: {mejor_goleadora()}')\n",
        "print(f'Buscando jugadora que existe: {buscar_jugadora(3)}')\n",
        "print(f'Buscando jugadora que no existe: {buscar_jugadora(1)}')\n",
        "\n"
      ],
      "metadata": {
        "colab": {
          "base_uri": "https://localhost:8080/"
        },
        "id": "fG2O7Yaxv6df",
        "outputId": "c4a34e16-455c-42c1-dcf1-bf432bf9a031"
      },
      "execution_count": 1,
      "outputs": [
        {
          "output_type": "stream",
          "name": "stdout",
          "text": [
            "Promedio de goles: 2.2\n",
            "Jugadora con mas goles: Jimena\n",
            "Buscando jugadora que existe: Carmen: 3 goles\n",
            "Buscando jugadora que no existe: La jugadora no existe\n"
          ]
        }
      ]
    },
    {
      "cell_type": "markdown",
      "source": [
        "### Ejercicio 20:\n",
        "Supongamos que tienes dos conjuntos que representan a dos grupos de estudiantes interesados en diferentes asignaturas en una universidad. Cada conjunto contiene los números de identificación de los estudiantes (pas) que están inscritos en las asignaturas respectivas.\n",
        "Realiza las siguientes operaciones utilizando conjuntos en Python:\n",
        "1. Crea dos conjuntos llamados grupo_a y grupo_b con al menos cinco números de identificación de estudiantes en cada uno. Asegúrate de incluir algunos estudiantes en ambos grupos para simular la superposición de intereses en ciertas asignaturas.\n",
        "2. Escribe una función llamada estudiantes_comunes que tome como entrada los conjuntos grupo_a y grupo_b y devuelva un conjunto que contenga los números de identificación de los estudiantes que están inscritos en ambas asignaturas.\n",
        "3. Escribe una función llamada estudiantes_unidos que tome como entrada los conjuntos grupo_a y grupo_b y devuelva un conjunto que contenga todos los números de identificación de los estudiantes de ambos grupos, sin duplicados.\n",
        "4. Escribe una función llamada estudiantes_exclusivos que tome como entrada los conjuntos grupo_a y grupo_b y devuelva un conjunto que contenga los números de identificación de los estudiantes que están inscritos en una asignatura, pero no en la otra.\n",
        "5. Utiliza las funciones que has creado para mostrar los siguientes resultados:\n",
        "  - Los números de identificación de los estudiantes que están inscritos en ambas asignaturas.\n",
        "  - Los números de identificación de todos los estudiantes en ambos grupos (sin duplicados).\n",
        "  - Los números de identificación de los estudiantes que están inscritos en una asignatura, pero no en la otra."
      ],
      "metadata": {
        "id": "abpv---ZfCs4"
      }
    },
    {
      "cell_type": "code",
      "source": [
        "grupo_a = {1491,6287,4199,3326,8812}\n",
        "grupo_b = {9052,4711,1491,8561,3326}\n",
        "estudiantes_comunes = lambda conjunto_a, conjunto_b: set([alumno for alumno in conjunto_a if alumno in conjunto_b])\n",
        "estudiantes_unidos = lambda conjunto_a, conjunto_b: set(list(conjunto_a) + list(conjunto_b))\n",
        "estudiantes_exclusivos = lambda conjunto_a, conjunto_b: set([alumno for alumno in conjunto_a if alumno not in conjunto_b] + [alumno for alumno in conjunto_b if alumno not in conjunto_a])\n",
        "print(estudiantes_unidos(grupo_a, grupo_b))\n",
        "print(estudiantes_comunes(grupo_a, grupo_b))\n",
        "print(estudiantes_exclusivos(grupo_a, grupo_b))"
      ],
      "metadata": {
        "colab": {
          "base_uri": "https://localhost:8080/"
        },
        "id": "vvfdZCBlfXb_",
        "outputId": "fbc54392-7f71-485f-bac2-60bb8981b666"
      },
      "execution_count": 8,
      "outputs": [
        {
          "output_type": "stream",
          "name": "stdout",
          "text": [
            "{4199, 4711, 8812, 6287, 8561, 1491, 9052, 3326}\n",
            "{1491, 3326}\n",
            "{4711, 4199, 8812, 6287, 8561, 9052}\n"
          ]
        }
      ]
    },
    {
      "cell_type": "markdown",
      "source": [
        "### Ejercicio 21:\n",
        "Imagina que estás creando un programa para registrar y gestionar información sobre Pokémon.\n",
        "Tu tarea es diseñar un programa en Python que utilice diccionarios para realizar las siguientes\n",
        "operaciones:\n",
        "1. Crea un diccionario llamado pokedex que almacene información sobre varios Pokémon.\n",
        "Cada clave en el diccionario debe ser el nombre de un Pokémon y cada valor debe ser otro diccionario que contenga la siguiente información:\n",
        "  - Tipo del Pokémon (por ejemplo, \"Fuego\", \"Agua\", \"Planta\", etc.).\n",
        "  - Puntos de salud (HP) del Pokémon.\n",
        "  - Puntos de ataque (ATK) del Pokémon.\n",
        "  - Puntos de defensa (DEF) del Pokémon.\n",
        "2. Escribe una función llamada mostrar_informacion_pokemon que tome como entrada\n",
        "el nombre de un Pokémon y muestre en la consola la información completa del\n",
        "Pokémon, incluyendo su tipo, HP, ATK y DEF.\n",
        "3. Escribe una función llamada agregar_pokemon que permita agregar un nuevo Pokémon\n",
        "a la pokedex. La función debe tomar como entrada el nombre del Pokémon, su tipo, HP,\n",
        "ATK y DEF, y agregar esta información al diccionario pokedex.\n",
        "4. Escribe una función llamada eliminar_pokemon que permita eliminar un Pokémon de\n",
        "la pokedex dado su nombre.\n",
        "5. Escribe una función llamada mostrar_catalogo que muestre un catálogo de todos los\n",
        "Pokémon en la pokedex, incluyendo solo los nombres de los Pokémon.\n",
        "6. Crea una instancia de la pokedex con al menos tres Pokémon.\n",
        "7. Realiza operaciones para mostrar información, agregar, eliminar y mostrar el catálogo\n",
        "de Pokémon en la pokedex\n"
      ],
      "metadata": {
        "id": "bTlZFUyxQB0R"
      }
    },
    {
      "cell_type": "code",
      "source": [
        "pokedex = {\n",
        "\"Charizard\": {\"Tipo\": \"Fuego\", \"HP\": 78, \"ATK\": 84,\n",
        "\"DEF\": 78},\n",
        "\"Blastoise\": {\"Tipo\": \"Agua\", \"HP\": 79, \"ATK\": 83,\n",
        "\"DEF\": 100},\n",
        "\"Venusaur\": {\"Tipo\": \"Planta\", \"HP\": 80, \"ATK\": 82,\n",
        "\"DEF\": 83}\n",
        "}\n",
        "\n",
        "mostrar_informacion_pokemon = lambda nombre: print(f'{nombre} --> Tipo: {pokedex[nombre][\"Tipo\"]}, HP: {pokedex[nombre][\"HP\"]}, ATK: {pokedex[nombre][\"ATK\"]}, DEF: {pokedex[nombre][\"DEF\"]}') if pokedex.get(nombre) != None else print('El pokemon no existe en la pokedex')\n",
        "def agregar_pokemon (nombre, tipo, hp, atk, defe):\n",
        "  pokedex[nombre] = {'Tipo': tipo, 'HP': hp, 'ATK': atk, 'DEF': defe}\n",
        "def eliminar_pokemon(nombre):\n",
        "  del(pokedex[nombre])\n",
        "mostrar_catalogo = lambda: print(tuple(pokedex.keys()))\n",
        "\n",
        "mostrar_informacion_pokemon('Blastoise')\n",
        "eliminar_pokemon('Blastoise')\n",
        "mostrar_catalogo()\n",
        "agregar_pokemon(\"Blastoise\",\"Agua\",79,83,100)\n",
        "mostrar_catalogo()"
      ],
      "metadata": {
        "id": "LfnArBUnwwWW",
        "colab": {
          "base_uri": "https://localhost:8080/"
        },
        "outputId": "1b4891b8-b0ea-4e7a-b510-9ba80a6d5e23"
      },
      "execution_count": null,
      "outputs": [
        {
          "output_type": "stream",
          "name": "stdout",
          "text": [
            "Blastoise --> Tipo: Agua, HP: 79, ATK: 83, DEF: 100\n",
            "('Charizard', 'Venusaur')\n",
            "('Charizard', 'Venusaur', 'Blastoise')\n"
          ]
        }
      ]
    },
    {
      "cell_type": "markdown",
      "source": [
        "### Ejercicio 22:\n",
        "Crea un programa en Python que modele una biblioteca utilizando conceptos de programación\n",
        "orientada a objetos. Debes definir dos clases principales: Libro y Biblioteca.\n",
        "1. La clase Libro debe tener las siguientes propiedades:\n",
        "  - Título del libro.\n",
        "  - Autor del libro.\n",
        "  - Año de publicación del libro.\n",
        "  \n",
        "Además, la clase Libro debe tener un método llamado mostrar_informacion que imprima en la consola la información completa del libro en el siguiente formato:\n",
        "```\n",
        "        Título: [Título del libro]\n",
        "        Autor: [Autor del libro]\n",
        "        Año de Publicación: [Año de publicación]\n",
        "```\n",
        "2. La clase Biblioteca debe tener las siguientes propiedades:\n",
        "  - Nombre de la biblioteca.\n",
        "  - Lista de libros disponibles (una lista de objetos de la clase Libro). La clase Biblioteca debe tener los siguientes métodos:\n",
        "  - agregar_libro(libro): Agrega un libro a la lista de libros disponibles en la biblioteca.\n",
        "  - prestar_libro(titulo): Marca un libro como prestado (elimina el libro de la lista de disponibles) y devuelve el objeto Libro correspondiente.\n",
        "  - devolver_libro(libro): Recibe un libro prestado y lo agrega de nuevo a la lista de libros disponibles.\n",
        "  - mostrar_catalogo(): Muestra el catálogo completo de libros disponibles en la biblioteca, utilizando el método mostrar_informacion de la clase Libro para mostrar la información detallada de cada libro.\n",
        "3. Crea una instancia de la clase Biblioteca llamada mi_biblioteca con un nombre de tu elección.\n",
        "4. Crea al menos tres instancias de la clase Libro con información ficticia y agrégalas a la biblioteca mi_biblioteca.\n",
        "5. Realiza operaciones de préstamo y devolución de libros utilizando los métodos de la clase Biblioteca. Muestra el catálogo actualizado después de cada operación."
      ],
      "metadata": {
        "id": "XYngqEqELOsM"
      }
    },
    {
      "cell_type": "code",
      "source": [
        "class Libro:\n",
        "  def __init__(self, titulo, autor, anio_publicacion) -> None:\n",
        "    self.titulo = titulo\n",
        "    self.autor = autor\n",
        "    self.anio_publicacion = anio_publicacion\n",
        "\n",
        "  def mostrar_informacion(self) -> None:\n",
        "    print(f'Título: {self.titulo}\\nAutor: {self.autor}\\nAño de Publicación: {self.anio_publicacion}\\n')\n",
        "\n",
        "class Biblicoteca:\n",
        "  def __init__(self, nombre, libros = []) -> None:\n",
        "    self.nombre = nombre\n",
        "    self.libros = libros\n",
        "\n",
        "  def agregar_libro(self, libro) -> None:\n",
        "    self.libros.append(libro)\n",
        "\n",
        "  def prestar_libro(self,titulo) -> Libro:\n",
        "    libro_elegido = [libro for libro in self.libros if libro.titulo][0]\n",
        "    self.libros.remove(libro_elegido)\n",
        "    return libro_elegido\n",
        "  def devolver_libro(self,libro) -> None:\n",
        "    self.agregar_libro(libro)\n",
        "\n",
        "  def mostrar_catalogo(self) -> None:\n",
        "    for libro in self.libros: libro.mostrar_informacion()\n",
        "\n",
        "mi_biblioteca = Biblicoteca('Biblioteca1')\n",
        "l1 = Libro('Libro1', 'Unamuno', 1980)\n",
        "l2 = Libro('Libro2', 'Einstein', 2001)\n",
        "l3 = Libro('Libro3', 'Michael Phelps', 1542)\n",
        "mi_biblioteca.agregar_libro(l1)\n",
        "mi_biblioteca.agregar_libro(l2)\n",
        "mi_biblioteca.agregar_libro(l3)\n",
        "libro_prestado = mi_biblioteca.prestar_libro('Libro1')\n",
        "mi_biblioteca.prestar_libro('Libro2')\n",
        "mi_biblioteca.devolver_libro(libro_prestado)\n",
        "mi_biblioteca.mostrar_catalogo()\n",
        "\n",
        "\n"
      ],
      "metadata": {
        "colab": {
          "base_uri": "https://localhost:8080/"
        },
        "id": "3mtbvQEWl0b4",
        "outputId": "aaa614a8-e550-4fd4-c0ce-87dab6b8160f"
      },
      "execution_count": 21,
      "outputs": [
        {
          "output_type": "stream",
          "name": "stdout",
          "text": [
            "Título: Libro3\n",
            "Autor: Michael Phelps\n",
            "Año de Publicación: 1542\n",
            "\n",
            "Título: Libro1\n",
            "Autor: Unamuno\n",
            "Año de Publicación: 1980\n",
            "\n"
          ]
        }
      ]
    },
    {
      "cell_type": "code",
      "source": [],
      "metadata": {
        "id": "E_JWJZkxrAg2"
      },
      "execution_count": null,
      "outputs": []
    }
  ]
}